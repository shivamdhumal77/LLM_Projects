{
 "cells": [
  {
   "cell_type": "code",
   "execution_count": 3,
   "metadata": {},
   "outputs": [],
   "source": [
    "import json\n",
    "from vosk import Model, KaldiRecognizer\n",
    "from langchain.llms import Ollama\n",
    "import pyaudio\n",
    "import wave\n"
   ]
  },
  {
   "cell_type": "code",
   "execution_count": 7,
   "metadata": {},
   "outputs": [],
   "source": [
    "\n",
    "# Initialize Vosk model for speech recognition\n",
    "vosk_model = Model(\"C:\\\\Users\\\\dhuma\\\\New folder (2)\\\\vosk-model-en-in-0.5\")  # Replace with your model's path\n",
    "recognizer = KaldiRecognizer(vosk_model, 16000)\n",
    "\n",
    "# Function to capture and transcribe speech using Vosk\n",
    "def transcribe_audio_vosk():\n",
    "    print(\"Listening for your input...\")\n",
    "\n",
    "    # Open microphone stream\n",
    "    p = pyaudio.PyAudio()\n",
    "    stream = p.open(format=pyaudio.paInt16,\n",
    "                    channels=1,\n",
    "                    rate=16000,\n",
    "                    input=True,\n",
    "                    frames_per_buffer=4000)\n",
    "    \n",
    "\n",
    "    # Start listening to audio\n",
    "    while True:\n",
    "        data = stream.read(4000)\n",
    "        if recognizer.AcceptWaveform(data):\n",
    "            result = json.loads(recognizer.Result())\n",
    "            query = result.get(\"text\", \"\")\n",
    "            if query:\n",
    "                print(f\"User said: {query}\")\n",
    "                return query\n"
   ]
  },
  {
   "cell_type": "code",
   "execution_count": 8,
   "metadata": {},
   "outputs": [],
   "source": [
    "\n",
    "\n",
    "# Function to communicate with Ollama using LangChain's Ollama model\n",
    "def chat_with_ollama(query):\n",
    "    # Initialize Ollama instance with the model path\n",
    "    ollama = Ollama(model=\"llama3.2\", temperature=0.5)\n",
    "\n",
    "    try:\n",
    "        # Send the query to Ollama using 'llama-3.2' model\n",
    "        response = ollama(query)\n",
    "\n",
    "        # Return the response from Ollama\n",
    "        return response\n",
    "    except Exception as e:\n",
    "        print(f\"Error communicating with Ollama: {e}\")\n",
    "        return \"Sorry, I couldn't understand that.\"  # Default error response\n",
    "\n",
    "# Function to play speech output directly using pyaudio\n",
    "def play_audio_from_wav(wav_file):\n",
    "    # Open the .wav file\n",
    "    with wave.open(wav_file, 'rb') as wf:\n",
    "        p = pyaudio.PyAudio()\n",
    "\n",
    "        # Open a stream to play the audio\n",
    "        stream = p.open(format=pyaudio.paInt16,\n",
    "                        channels=wf.getnchannels(),\n",
    "                        rate=wf.getframerate(),\n",
    "                        output=True)\n",
    "\n",
    "        # Read the data in chunks and play it\n",
    "        chunk_size = 1024\n",
    "        data = wf.readframes(chunk_size)\n",
    "        while data:\n",
    "            stream.write(data)\n",
    "            data = wf.readframes(chunk_size)\n",
    "\n",
    "        # Stop and close the stream\n",
    "        stream.stop_stream()\n",
    "        stream.close()\n",
    "\n",
    "\n"
   ]
  },
  {
   "cell_type": "code",
   "execution_count": null,
   "metadata": {},
   "outputs": [
    {
     "name": "stdout",
     "output_type": "stream",
     "text": [
      "Assistant is ready...\n",
      "Listening for your input...\n",
      "User said: hello\n"
     ]
    }
   ],
   "source": [
    "# Function to speak the assistant's response (can be replaced with text-to-speech)\n",
    "def speak(text):\n",
    "    print(f\"Speaking: {text}\")\n",
    "    # For now, you can print the response or use any other method to generate speech\n",
    "    # In case you want to add TTS again, you can integrate a TTS service here.\n",
    "\n",
    "# Main assistant loop\n",
    "def assistant():\n",
    "    # Start the conversation\n",
    "    print(\"Assistant is ready...\")\n",
    "\n",
    "    while True:\n",
    "        # Capture and transcribe speech using Vosk\n",
    "        user_query = transcribe_audio_vosk()  # Take query input from user\n",
    "        if user_query.lower() in ['stop', 'thank you', 'stop listening']:  # End conversation on 'stop', 'thank you', or 'stop listening'\n",
    "            print(\"Exiting conversation.\")\n",
    "            break\n",
    "\n",
    "        # Get response from Ollama\n",
    "        response = chat_with_ollama(user_query)\n",
    "        \n",
    "        # Print and speak the response from Ollama\n",
    "        print(f\"Ollama response: {response}\")\n",
    "        speak(response)  # Speak out the response\n",
    "\n",
    "# Run the assistant\n",
    "assistant()"
   ]
  }
 ],
 "metadata": {
  "kernelspec": {
   "display_name": "Python 3",
   "language": "python",
   "name": "python3"
  },
  "language_info": {
   "codemirror_mode": {
    "name": "ipython",
    "version": 3
   },
   "file_extension": ".py",
   "mimetype": "text/x-python",
   "name": "python",
   "nbconvert_exporter": "python",
   "pygments_lexer": "ipython3",
   "version": "3.11.2"
  }
 },
 "nbformat": 4,
 "nbformat_minor": 2
}
