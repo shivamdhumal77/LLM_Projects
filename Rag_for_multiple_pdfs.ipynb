{
  "nbformat": 4,
  "nbformat_minor": 0,
  "metadata": {
    "colab": {
      "provenance": [],
      "gpuType": "T4",
      "authorship_tag": "ABX9TyOD0/8ahSBpNE89Sxz67MAT",
      "include_colab_link": true
    },
    "kernelspec": {
      "name": "python3",
      "display_name": "Python 3"
    },
    "language_info": {
      "name": "python"
    },
    "accelerator": "GPU"
  },
  "cells": [
    {
      "cell_type": "markdown",
      "metadata": {
        "id": "view-in-github",
        "colab_type": "text"
      },
      "source": [
        "<a href=\"https://colab.research.google.com/github/shivamdhumal77/LLM_Projects/blob/main/Rag_for_multiple_pdfs.ipynb\" target=\"_parent\"><img src=\"https://colab.research.google.com/assets/colab-badge.svg\" alt=\"Open In Colab\"/></a>"
      ]
    },
    {
      "cell_type": "code",
      "source": [
        "pip install faiss-cpu"
      ],
      "metadata": {
        "colab": {
          "base_uri": "https://localhost:8080/"
        },
        "id": "lfVJKrwk-cgU",
        "outputId": "ee4ba801-b9a3-4d3b-ece9-123565dfcfc1"
      },
      "execution_count": 47,
      "outputs": [
        {
          "output_type": "stream",
          "name": "stdout",
          "text": [
            "Requirement already satisfied: faiss-cpu in /usr/local/lib/python3.11/dist-packages (1.9.0.post1)\n",
            "Requirement already satisfied: numpy<3.0,>=1.25.0 in /usr/local/lib/python3.11/dist-packages (from faiss-cpu) (1.26.4)\n",
            "Requirement already satisfied: packaging in /usr/local/lib/python3.11/dist-packages (from faiss-cpu) (24.2)\n"
          ]
        }
      ]
    },
    {
      "cell_type": "code",
      "execution_count": 49,
      "metadata": {
        "id": "MmeuM0yO8XKA"
      },
      "outputs": [],
      "source": [
        "from langchain.document_loaders import PyPDFLoader\n",
        "from langchain.text_splitter import RecursiveCharacterTextSplitter\n",
        "from langchain.vectorstores import FAISS\n",
        "from langchain.embeddings import FakeEmbeddings\n",
        "from langchain.chains import RetrievalQA\n",
        "from langchain_openai import ChatOpenAI"
      ]
    },
    {
      "cell_type": "code",
      "source": [
        "# Initialize ChatOpenAI instances\n",
        "llm_1 = ChatOpenAI(\n",
        "    api_key=\"ollama\",\n",
        "    base_url=\"https://sunny-gerri-finsocialdigitalsystem-d9b385fa.koyeb.app/v1\",\n",
        "    model=\"athene-v2\"\n",
        ")\n",
        "\n",
        "llm_2 = ChatOpenAI(\n",
        "    api_key=\"ollama\",\n",
        "    base_url=\"https://sunny-gerri-finsocialdigitalsystem-d9b385fa.koyeb.app/v1\",\n",
        "    model=\"text-davinci-003\"\n",
        ")"
      ],
      "metadata": {
        "id": "OPq4ixk38nF9"
      },
      "execution_count": 50,
      "outputs": []
    },
    {
      "cell_type": "code",
      "source": [
        "# Function to use custom LLM logic\n",
        "def generate_text(prompt):\n",
        "    try:\n",
        "        response = llm_1.predict(prompt)\n",
        "        print(\"Generated Text from nemotron-mini:\")\n",
        "        return response\n",
        "    except Exception as e:\n",
        "        print(f\"Error with first model: {e}\")\n",
        "        print(\"Switching to the second model...\")\n",
        "        try:\n",
        "            response = llm_2.predict(prompt)\n",
        "            print(\"Generated Text from text-davinci-003:\")\n",
        "            return response\n",
        "        except Exception as e:\n",
        "            print(f\"Error with second model: {e}\")\n",
        "            return None"
      ],
      "metadata": {
        "id": "1HHiStjL8_21"
      },
      "execution_count": 51,
      "outputs": []
    },
    {
      "cell_type": "code",
      "source": [
        "def load_and_chunk_pdfs(pdf_paths, chunk_size=5000, chunk_overlap=200):\n",
        "    all_documents = []\n",
        "    text_splitter = RecursiveCharacterTextSplitter(chunk_size=chunk_size, chunk_overlap=chunk_overlap)\n",
        "\n",
        "    for pdf_path in pdf_paths:\n",
        "        loader = PyPDFLoader(pdf_path)\n",
        "        documents = loader.load()\n",
        "        chunks = text_splitter.split_documents(documents)\n",
        "        all_documents.extend(chunks)\n",
        "\n",
        "    return all_documents"
      ],
      "metadata": {
        "id": "yOzChR4r9Dnp"
      },
      "execution_count": 52,
      "outputs": []
    },
    {
      "cell_type": "code",
      "source": [
        "pip install pypdf"
      ],
      "metadata": {
        "colab": {
          "base_uri": "https://localhost:8080/"
        },
        "id": "OGkkGIvz9ORB",
        "outputId": "215ef8e0-688c-41ec-8a42-359879c840bf"
      },
      "execution_count": 53,
      "outputs": [
        {
          "output_type": "stream",
          "name": "stdout",
          "text": [
            "Requirement already satisfied: pypdf in /usr/local/lib/python3.11/dist-packages (5.1.0)\n"
          ]
        }
      ]
    },
    {
      "cell_type": "code",
      "source": [
        "# Create a vector store with dummy embeddings\n",
        "def create_vector_store(docs):\n",
        "    embeddings = FakeEmbeddings(size=768)  # Simulate embedding size for FAISS\n",
        "    vectorstore = FAISS.from_documents(docs, embeddings)\n",
        "    return vectorstore\n",
        "\n",
        "# RAG pipeline with custom LLM\n",
        "def setup_rag_pipeline(vectorstore):\n",
        "    retriever = vectorstore.as_retriever()\n",
        "\n",
        "    # Custom RetrievalQA chain\n",
        "    class CustomRetrievalQA:\n",
        "        def __init__(self, retriever, llm):\n",
        "            self.retriever = retriever\n",
        "            self.llm = llm\n",
        "\n",
        "        def run(self, query):\n",
        "            relevant_docs = self.retriever.get_relevant_documents(query)\n",
        "            context = \"\\n\".join([doc.page_content for doc in relevant_docs])\n",
        "            prompt = f\"Context:\\n{context}\\n\\nQuery: {query}\\nAnswer:\"\n",
        "            return self.llm(prompt)\n",
        "\n",
        "    return CustomRetrievalQA(retriever, generate_text)\n",
        "\n",
        "# Main function to process the query\n",
        "def query_multiple_pdfs(pdf_paths, query):\n",
        "    # Step 1: Load and chunk the PDFs\n",
        "    docs = load_and_chunk_pdfs(pdf_paths)\n",
        "\n",
        "    # Step 2: Create vector store\n",
        "    vectorstore = create_vector_store(docs)\n",
        "\n",
        "    # Step 3: Setup RAG pipeline\n",
        "    qa_chain = setup_rag_pipeline(vectorstore)\n",
        "\n",
        "    # Step 4: Query the RAG pipeline\n",
        "    print(f\"Processing query: {query}\")\n",
        "    response = qa_chain.run(query)\n",
        "    return response\n",
        "\n",
        "# Example usage\n",
        "pdf_paths = [\"/content/21 laws of leadership.pdf\",\"/content/Rich Dad Poor Dad ( PDFDrive ).pdf\",\"/content/youre-too-good-to-feel-this-bad-an-orthodox-approach-to-living-an-unorthodox-lif-pr_c3dad2f610c46141c398a386253e2a19.pdf\",\"/content/sun tzu the art of war.pdf\"]  # Add paths to your PDFs\n",
        "query = \"summarise everything and give a single approach in 5000 words\"\n",
        "response = query_multiple_pdfs(pdf_paths, query)\n",
        "\n",
        "# Print the output\n",
        "if response:\n",
        "    print(\"Final Answer:\")\n",
        "    print(response)\n",
        "else:\n",
        "    print(\"Failed to generate an answer.\")"
      ],
      "metadata": {
        "colab": {
          "base_uri": "https://localhost:8080/"
        },
        "id": "DlCu8BvP9IGr",
        "outputId": "553ab959-ab70-4b6b-9cca-d4592b064b83"
      },
      "execution_count": 58,
      "outputs": [
        {
          "output_type": "stream",
          "name": "stdout",
          "text": [
            "Processing query: summarise everything and give a single approach in 5000 words\n",
            "Generated Text from nemotron-mini:\n",
            "Final Answer:\n",
            "### Summary of Context and Core Principles\n",
            "\n",
            "The provided context spans diverse topics, from ancient Chinese military strategy to complex textual analyses. However, underlying these varied themes is a consistent emphasis on strategic intelligence gathering, execution of plans with precision, maintaining secrecy, and leveraging human resources effectively—whether in the form of spies or key functionalaries. The core principles can be distilled into several key areas: the importance of information, the necessity of trust, the role of loyalty, and the critical need for discretion.\n",
            "\n",
            "### Strategic Intelligence Gathering\n",
            "\n",
            "#### Ancient Military Strategy\n",
            "In ancient Chinese military strategy, as exemplified by Sun Tzu’s \"The Art of War,\" the gathering of intelligence is paramount. Sun Tzu emphasizes the use of spies to gather information about the enemy's movements, strengths, and weaknesses. This intelligence forms the foundation upon which strategic decisions are made. The text suggests that the effectiveness of a military campaign can be significantly enhanced by having accurate and timely information.\n",
            "\n",
            "#### Modern Applications\n",
            "In modern contexts, whether in business or politics, the principle remains the same. Intelligence gathering involves collecting data from various sources, analyzing it, and using it to make informed decisions. For instance, market research in business can provide insights into consumer behavior, competitive landscapes, and emerging trends. In politics, intelligence agencies gather information to inform policy decisions and national security strategies.\n",
            "\n",
            "### Execution with Precision\n",
            "\n",
            "#### Military Campaigns\n",
            "In military campaigns, precision in execution is crucial. Plans must be well-thought-out and executed flawlessly. Sun Tzu’s text highlights the importance of detailed planning and the need for agility to adapt to changing circumstances. The ability to execute a plan with precision ensures that resources are used efficiently and objectives are met.\n",
            "\n",
            "#### Business Strategy\n",
            "In business, precise execution is equally vital. A well-defined strategy must be supported by clear action plans and metrics to measure success. For example, a marketing campaign should have specific goals, timelines, and budget allocations to ensure it achieves its intended outcomes. In project management, detailed project plans with defined milestones help teams stay on track and meet deadlines.\n",
            "\n",
            "### Maintaining Secrecy\n",
            "\n",
            "#### Military Operations\n",
            "Secrecy is a critical component of military operations. Sun Tzu’s text underscores the importance of keeping information about one's plans and intentions confidential to gain a strategic advantage. The use of spies and other covert means ensures that enemy forces remain unaware of impending actions, thereby reducing the risk of countermeasures.\n",
            "\n",
            "#### Corporate Espionage\n",
            "In the corporate world, maintaining secrecy is essential to protect intellectual property, competitive strategies, and business plans. Companies must implement robust security measures to prevent information leaks, such as secure data storage, non-disclosure agreements (NDAs), and internal audits. In high-stakes negotiations or mergers and acquisitions, confidentiality is crucial to avoid market manipulation and ensure fair dealing.\n",
            "\n",
            "### Leveraging Human Resources Effectively\n",
            "\n",
            "#### Military Leadership\n",
            "Effective leadership in military contexts involves leveraging the skills and loyalty of key personnel. Sun Tzu’s text highlights the importance of building trust and loyalty among soldiers and spies. Leaders must inspire confidence and foster a sense of purpose to ensure that their teams are motivated and committed to achieving objectives.\n",
            "\n",
            "#### Management Practices\n",
            "In management, effective leadership similarly relies on developing strong relationships with team members. Trust and loyalty can be cultivated through transparent communication, recognition of achievements, and creating an inclusive work environment. Leaders who prioritize the well-being of their team members often find that their teams perform better and are more resilient in the face of challenges.\n",
            "\n",
            "### Single Approach: Holistic Strategic Framework\n",
            "\n",
            "To integrate these principles into a single, cohesive approach, we can develop a holistic strategic framework that emphasizes intelligence gathering, precise execution, maintaining secrecy, and effective leadership. This framework can be applied across various domains, from military operations to business strategy and political decision-making.\n",
            "\n",
            "#### 1. Intelligence Gathering (Pre-Planning Phase)\n",
            "**Objective:** Collect comprehensive and accurate information to inform strategic decisions.\n",
            "**Actions:**\n",
            "- **Diverse Sources:** Utilize a variety of sources for data collection, including open-source intelligence, human sources (spies or key informants), and technological tools.\n",
            "- **Data Analysis:** Analyze collected data using advanced analytics techniques to identify patterns, trends, and potential threats.\n",
            "- **Continuous Monitoring:** Establish systems for continuous monitoring to stay updated on changing circumstances.\n",
            "\n",
            "**Example:**\n",
            "A business might use market research surveys, social media analytics, and competitive intelligence reports to gather comprehensive information about its market. Continuous monitoring through real-time data feeds ensures the business remains informed of emerging trends and competitor actions.\n",
            "\n",
            "#### 2. Precise Execution (Planning and Implementation Phase)\n",
            "**Objective:** Develop detailed plans and execute them with precision.\n",
            "**Actions:**\n",
            "- **Detailed Planning:** Create clear action plans with specific goals, timelines, and resource allocations.\n",
            "- **Agile Adaptation:** Build in flexibility to adapt to changing circumstances without compromising overall objectives.\n",
            "- **Performance Metrics:** Define metrics to measure the success of each phase and make data-driven adjustments as needed.\n",
            "\n",
            "**Example:**\n",
            "A marketing team might develop a detailed campaign plan with specific advertising strategies, content creation schedules, and budget allocations. They would also set key performance indicators (KPIs) such as click-through rates and conversion rates to monitor the campaign’s effectiveness and make necessary adjustments.\n",
            "\n",
            "#### 3. Maintaining Secrecy (Security Phase)\n",
            "**Objective:** Protect sensitive information to maintain a strategic advantage.\n",
            "**Actions:**\n",
            "- **Confidentiality Protocols:** Implement strict confidentiality protocols, including secure data storage and NDAs.\n",
            "- **Internal Audits:** Conduct regular internal audits to identify and address security vulnerabilities.\n",
            "- **Controlled Information Sharing:** Limit the dissemination of critical information to only those who need to know.\n",
            "\n",
            "**Example:**\n",
            "A technology company might use encrypted communication channels, restrict access to sensitive documents, and conduct regular security audits to prevent intellectual property theft. During high-stakes negotiations, a small team with clear roles would be responsible for handling confidential information.\n",
            "\n",
            "#### 4. Effective Leadership (Team Management Phase)\n",
            "**Objective:** Build trust and loyalty among team members to enhance performance.\n",
            "**Actions:**\n",
            "- **Transparent Communication:** Foster open communication channels to ensure that all team members are informed and aligned.\n",
            "- **Recognition and Rewards:** Recognize and reward achievements to motivate and retain top talent.\n",
            "- **Inclusive Environment:** Create an inclusive work environment where diverse perspectives are valued and respected.\n",
            "\n",
            "**Example:**\n",
            "A project manager might hold regular team meetings to discuss progress, address concerns, and provide updates. They would also implement a recognition program to acknowledge individual and team contributions. By fostering a supportive and inclusive culture, the manager can build strong trust and loyalty within the team.\n",
            "\n",
            "### Conclusion\n",
            "\n",
            "By integrating the principles of intelligence gathering, precise execution, maintaining secrecy, and effective leadership into a holistic strategic framework, organizations can achieve their objectives more effectively, whether in military operations, business strategy, or political decision-making. This approach ensures that decisions are informed by accurate data, plans are executed with precision, sensitive information is protected, and teams are motivated and loyal. By applying this framework consistently, organizations can gain a competitive edge and navigate complex environments with greater confidence and success.\n"
          ]
        }
      ]
    }
  ]
}